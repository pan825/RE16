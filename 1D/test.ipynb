{
 "cells": [
  {
   "cell_type": "code",
   "execution_count": 5,
   "metadata": {},
   "outputs": [],
   "source": [
    "import numpy as np\n",
    "import RingAttractorModel"
   ]
  },
  {
   "cell_type": "code",
   "execution_count": null,
   "metadata": {},
   "outputs": [],
   "source": [
    "parameters = {'w_EE': 0.719, 'w_EI': 0.143, 'w_IE': 0.74, 'w_II': 0.01, 'w_EP': 0.012, 'w_PE': 0.709, 'w_PP': 0.01}\n",
    "p = RingAttractorModel.Parameters(**parameters)\n",
    "\n",
    "r = RingAttractorModel.Simulator(parameters=p)\n",
    "r.run(t_epg_open=200,\n",
    "      t_epg_close=300,\n",
    "      t_pen_open=10000,\n",
    "      stimulus_strength=0.05,\n",
    "      stimulus_location=np.deg2rad(0),\n",
    "      shifter_strength=0.0128,\n",
    "      half_PEN='right')\n",
    "r.plot()\n",
    "r.xt_plot()"
   ]
  }
 ],
 "metadata": {
  "kernelspec": {
   "display_name": "comphys",
   "language": "python",
   "name": "python3"
  },
  "language_info": {
   "codemirror_mode": {
    "name": "ipython",
    "version": 3
   },
   "file_extension": ".py",
   "mimetype": "text/x-python",
   "name": "python",
   "nbconvert_exporter": "python",
   "pygments_lexer": "ipython3",
   "version": "3.12.5"
  }
 },
 "nbformat": 4,
 "nbformat_minor": 2
}
