{
 "cells": [
  {
   "cell_type": "code",
   "execution_count": 1,
   "metadata": {},
   "outputs": [
    {
     "name": "stderr",
     "output_type": "stream",
     "text": [
      "/home/pajucg/anaconda3/envs/comphys/lib/python3.12/site-packages/setuptools/_distutils/_msvccompiler.py:12: UserWarning: _get_vc_env is private; find an alternative (pypa/distutils#340)\n",
      "  warnings.warn(\n"
     ]
    }
   ],
   "source": [
    "import RE16\n",
    "import os\n",
    "import time\n",
    "import numpy as np\n",
    "import matplotlib.pyplot as plt\n"
   ]
  },
  {
   "cell_type": "code",
   "execution_count": 2,
   "metadata": {},
   "outputs": [],
   "source": [
    "def save(t, fr, file_path='simulation_results.dat', folder=None):\n",
    "    \"\"\"Save simulation results to a file.\n",
    "    \n",
    "    Args:\n",
    "        file_path: Name of the file to save results to\n",
    "        folder: Optional folder path for the file\n",
    "    \"\"\"\n",
    "    if folder is not None:\n",
    "        if not os.path.exists(folder):\n",
    "            os.makedirs(folder)\n",
    "        file_path = os.path.join(folder, file_path)\n",
    "\n",
    "    with open(file_path, 'w') as file:\n",
    "        for i in range(len(t)):\n",
    "            row = f'{t[i]} '\n",
    "            row += ' '.join([f'{fr[j,i]}' for j in range(fr.shape[0])])\n",
    "            file.write(row + '\\n')\n",
    "            \n",
    "    print(f'\\n{time.strftime(\"%Y-%m-%d %H:%M:%S\")}: file saved as {file_path}')"
   ]
  },
  {
   "cell_type": "code",
   "execution_count": 3,
   "metadata": {},
   "outputs": [
    {
     "name": "stdout",
     "output_type": "stream",
     "text": [
      "start\n",
      "Creating EPG-EPG connections...\n"
     ]
    },
    {
     "name": "stdout",
     "output_type": "stream",
     "text": [
      "Creating PEN-PEN connections...\n",
      "Creating EPG-R connections...\n",
      "Creating R-EPG connections...\n",
      "Creating R-R connections...\n",
      "Creating EPG-PEN connections...\n",
      "Creating PEN0-6 -> EPG0-8 connections (PE2R)...\n",
      "Creating PEN0-6 -> EPG0-8 connections (PE1R)...\n",
      "Creating  PE1R connection...\n",
      "Creating PEN9-15 -> EPG0-8 connections (PE2R2)...\n",
      "Creating PEN9-15 -> EPG0-8 connections (PE1R2)...\n",
      "Creating  PE1R2 connection...\n",
      "Creating PEN7 connections...\n",
      "Creating PEN8 connections...\n",
      "Creating PEN0-6 -> EPG8-15 connections (PE2L)...\n",
      "Creating PEN0-6 -> EPG8-15 connections (PE1L)...\n",
      "Creating  PE1L connection...\n",
      "Creating PEN9-15 -> EPG8-15 connections (PE2L2)...\n",
      "Creating PEN9-15 -> EPG8-15 connections (PE1L2)...\n",
      "Creating  PE1L2 connection...\n",
      "vertical connections\n",
      "Creating EPGv-EPGv connections...\n",
      "Creating PENv-PENv connections...\n",
      "Creating EPGv-R connections...\n",
      "Creating R-EPGv connections...\n",
      "Creating EPGv-PENv connections...\n",
      "Creating PENv0-6 -> EPGv0-8 connections (PE2Rv)...\n",
      "Creating PENv0-6 -> EPGv0-8 connections (PE1Rv)...\n",
      "Creating PE1Rv connection...\n",
      "Creating PENv9-15 -> EPGv0-8 connections (PE2R2v)...\n",
      "Creating PENv9-15 -> EPGv0-8 connections (PE1R2v)...\n",
      "Creating PE1R2v connection...\n",
      "Creating PENv7 connections...\n",
      "Creating PENv8 connections...\n",
      "Creating PENv0-6 -> EPGv8-15 connections (PE2Lv)...\n",
      "Creating PENv0-6 -> EPGv8-15 connections (PE1Lv)...\n",
      "Creating PE1Lv connection...\n",
      "Creating PENv9-15 -> EPGv8-15 connections (PE2L2v)...\n",
      "Creating PENv9-15 -> EPGv8-15 connections (PE1L2v)...\n",
      "Creating PE1L2v connection...\n",
      "All synapse connections completed!\n",
      "collect\n",
      "visual cue\n",
      "body rotation\n",
      "08:17:24 : 4 min 53.5 sec -> eval end\n"
     ]
    }
   ],
   "source": [
    "t, fr, fr_v = RE16.simulator(shifter_strength=0.,\n",
    "                             shifter_strength_v=0.018,\n",
    "                             half_PEN='right')"
   ]
  },
  {
   "cell_type": "code",
   "execution_count": 4,
   "metadata": {},
   "outputs": [
    {
     "name": "stdout",
     "output_type": "stream",
     "text": [
      "\n",
      "2025-06-10 08:17:25: file saved as h.dat\n",
      "\n",
      "2025-06-10 08:17:26: file saved as v.dat\n"
     ]
    }
   ],
   "source": [
    "save(t, fr, 'h.dat')\n",
    "save(t, fr_v, 'v.dat')"
   ]
  }
 ],
 "metadata": {
  "kernelspec": {
   "display_name": "comphys",
   "language": "python",
   "name": "python3"
  },
  "language_info": {
   "codemirror_mode": {
    "name": "ipython",
    "version": 3
   },
   "file_extension": ".py",
   "mimetype": "text/x-python",
   "name": "python",
   "nbconvert_exporter": "python",
   "pygments_lexer": "ipython3",
   "version": "3.12.10"
  }
 },
 "nbformat": 4,
 "nbformat_minor": 2
}
